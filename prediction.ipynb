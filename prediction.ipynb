{
 "cells": [
  {
   "cell_type": "code",
   "execution_count": 1,
   "metadata": {},
   "outputs": [],
   "source": [
    "# Step 1 Import libararies and Load the model\n",
    "import numpy as np\n",
    "import tensorflow as tf\n",
    "from tensorflow.keras.datasets import imdb\n",
    "from tensorflow.keras.preprocessing import sequence\n",
    "from tensorflow.keras.models import load_model"
   ]
  },
  {
   "cell_type": "code",
   "execution_count": 2,
   "metadata": {},
   "outputs": [],
   "source": [
    "# Load the imdb dataset word index\n",
    "word_index = imdb.get_word_index()\n",
    "reverse_word_index = {value: key for key, value in word_index.items()}"
   ]
  },
  {
   "cell_type": "code",
   "execution_count": 3,
   "metadata": {},
   "outputs": [
    {
     "name": "stderr",
     "output_type": "stream",
     "text": [
      "WARNING:absl:Compiled the loaded model, but the compiled metrics have yet to be built. `model.compile_metrics` will be empty until you train or evaluate the model.\n"
     ]
    },
    {
     "data": {
      "text/html": [
       "<pre style=\"white-space:pre;overflow-x:auto;line-height:normal;font-family:Menlo,'DejaVu Sans Mono',consolas,'Courier New',monospace\"><span style=\"font-weight: bold\">Model: \"sequential\"</span>\n",
       "</pre>\n"
      ],
      "text/plain": [
       "\u001b[1mModel: \"sequential\"\u001b[0m\n"
      ]
     },
     "metadata": {},
     "output_type": "display_data"
    },
    {
     "data": {
      "text/html": [
       "<pre style=\"white-space:pre;overflow-x:auto;line-height:normal;font-family:Menlo,'DejaVu Sans Mono',consolas,'Courier New',monospace\">┏━━━━━━━━━━━━━━━━━━━━━━━━━━━━━━━━━┳━━━━━━━━━━━━━━━━━━━━━━━━┳━━━━━━━━━━━━━━━┓\n",
       "┃<span style=\"font-weight: bold\"> Layer (type)                    </span>┃<span style=\"font-weight: bold\"> Output Shape           </span>┃<span style=\"font-weight: bold\">       Param # </span>┃\n",
       "┡━━━━━━━━━━━━━━━━━━━━━━━━━━━━━━━━━╇━━━━━━━━━━━━━━━━━━━━━━━━╇━━━━━━━━━━━━━━━┩\n",
       "│ embedding (<span style=\"color: #0087ff; text-decoration-color: #0087ff\">Embedding</span>)           │ (<span style=\"color: #00af00; text-decoration-color: #00af00\">32</span>, <span style=\"color: #00af00; text-decoration-color: #00af00\">500</span>, <span style=\"color: #00af00; text-decoration-color: #00af00\">128</span>)         │     <span style=\"color: #00af00; text-decoration-color: #00af00\">1,280,000</span> │\n",
       "├─────────────────────────────────┼────────────────────────┼───────────────┤\n",
       "│ simple_rnn (<span style=\"color: #0087ff; text-decoration-color: #0087ff\">SimpleRNN</span>)          │ (<span style=\"color: #00af00; text-decoration-color: #00af00\">32</span>, <span style=\"color: #00af00; text-decoration-color: #00af00\">128</span>)              │        <span style=\"color: #00af00; text-decoration-color: #00af00\">32,896</span> │\n",
       "├─────────────────────────────────┼────────────────────────┼───────────────┤\n",
       "│ dense (<span style=\"color: #0087ff; text-decoration-color: #0087ff\">Dense</span>)                   │ (<span style=\"color: #00af00; text-decoration-color: #00af00\">32</span>, <span style=\"color: #00af00; text-decoration-color: #00af00\">1</span>)                │           <span style=\"color: #00af00; text-decoration-color: #00af00\">129</span> │\n",
       "└─────────────────────────────────┴────────────────────────┴───────────────┘\n",
       "</pre>\n"
      ],
      "text/plain": [
       "┏━━━━━━━━━━━━━━━━━━━━━━━━━━━━━━━━━┳━━━━━━━━━━━━━━━━━━━━━━━━┳━━━━━━━━━━━━━━━┓\n",
       "┃\u001b[1m \u001b[0m\u001b[1mLayer (type)                   \u001b[0m\u001b[1m \u001b[0m┃\u001b[1m \u001b[0m\u001b[1mOutput Shape          \u001b[0m\u001b[1m \u001b[0m┃\u001b[1m \u001b[0m\u001b[1m      Param #\u001b[0m\u001b[1m \u001b[0m┃\n",
       "┡━━━━━━━━━━━━━━━━━━━━━━━━━━━━━━━━━╇━━━━━━━━━━━━━━━━━━━━━━━━╇━━━━━━━━━━━━━━━┩\n",
       "│ embedding (\u001b[38;5;33mEmbedding\u001b[0m)           │ (\u001b[38;5;34m32\u001b[0m, \u001b[38;5;34m500\u001b[0m, \u001b[38;5;34m128\u001b[0m)         │     \u001b[38;5;34m1,280,000\u001b[0m │\n",
       "├─────────────────────────────────┼────────────────────────┼───────────────┤\n",
       "│ simple_rnn (\u001b[38;5;33mSimpleRNN\u001b[0m)          │ (\u001b[38;5;34m32\u001b[0m, \u001b[38;5;34m128\u001b[0m)              │        \u001b[38;5;34m32,896\u001b[0m │\n",
       "├─────────────────────────────────┼────────────────────────┼───────────────┤\n",
       "│ dense (\u001b[38;5;33mDense\u001b[0m)                   │ (\u001b[38;5;34m32\u001b[0m, \u001b[38;5;34m1\u001b[0m)                │           \u001b[38;5;34m129\u001b[0m │\n",
       "└─────────────────────────────────┴────────────────────────┴───────────────┘\n"
      ]
     },
     "metadata": {},
     "output_type": "display_data"
    },
    {
     "data": {
      "text/html": [
       "<pre style=\"white-space:pre;overflow-x:auto;line-height:normal;font-family:Menlo,'DejaVu Sans Mono',consolas,'Courier New',monospace\"><span style=\"font-weight: bold\"> Total params: </span><span style=\"color: #00af00; text-decoration-color: #00af00\">1,313,027</span> (5.01 MB)\n",
       "</pre>\n"
      ],
      "text/plain": [
       "\u001b[1m Total params: \u001b[0m\u001b[38;5;34m1,313,027\u001b[0m (5.01 MB)\n"
      ]
     },
     "metadata": {},
     "output_type": "display_data"
    },
    {
     "data": {
      "text/html": [
       "<pre style=\"white-space:pre;overflow-x:auto;line-height:normal;font-family:Menlo,'DejaVu Sans Mono',consolas,'Courier New',monospace\"><span style=\"font-weight: bold\"> Trainable params: </span><span style=\"color: #00af00; text-decoration-color: #00af00\">1,313,025</span> (5.01 MB)\n",
       "</pre>\n"
      ],
      "text/plain": [
       "\u001b[1m Trainable params: \u001b[0m\u001b[38;5;34m1,313,025\u001b[0m (5.01 MB)\n"
      ]
     },
     "metadata": {},
     "output_type": "display_data"
    },
    {
     "data": {
      "text/html": [
       "<pre style=\"white-space:pre;overflow-x:auto;line-height:normal;font-family:Menlo,'DejaVu Sans Mono',consolas,'Courier New',monospace\"><span style=\"font-weight: bold\"> Non-trainable params: </span><span style=\"color: #00af00; text-decoration-color: #00af00\">0</span> (0.00 B)\n",
       "</pre>\n"
      ],
      "text/plain": [
       "\u001b[1m Non-trainable params: \u001b[0m\u001b[38;5;34m0\u001b[0m (0.00 B)\n"
      ]
     },
     "metadata": {},
     "output_type": "display_data"
    },
    {
     "data": {
      "text/html": [
       "<pre style=\"white-space:pre;overflow-x:auto;line-height:normal;font-family:Menlo,'DejaVu Sans Mono',consolas,'Courier New',monospace\"><span style=\"font-weight: bold\"> Optimizer params: </span><span style=\"color: #00af00; text-decoration-color: #00af00\">2</span> (12.00 B)\n",
       "</pre>\n"
      ],
      "text/plain": [
       "\u001b[1m Optimizer params: \u001b[0m\u001b[38;5;34m2\u001b[0m (12.00 B)\n"
      ]
     },
     "metadata": {},
     "output_type": "display_data"
    }
   ],
   "source": [
    "# Load the pre-trained model with ReLU activation\n",
    "model = load_model('simple_rnn_imdb.h5')\n",
    "model.summary()"
   ]
  },
  {
   "cell_type": "code",
   "execution_count": 4,
   "metadata": {},
   "outputs": [
    {
     "data": {
      "text/plain": [
       "[array([[ 0.15655884,  0.14042309,  0.30766746, ...,  0.18255796,\n",
       "         -0.21636897,  0.2168739 ],\n",
       "        [ 0.00725016,  0.07316867,  0.00537285, ..., -0.0464256 ,\n",
       "         -0.03532145,  0.07144758],\n",
       "        [ 0.10896398,  0.01180822,  0.08028682, ...,  0.1433354 ,\n",
       "         -0.00958566, -0.01389513],\n",
       "        ...,\n",
       "        [-0.06822474,  0.02835202,  0.00475107, ...,  0.06823701,\n",
       "         -0.03594336, -0.05697566],\n",
       "        [-0.02543682, -0.01928088,  0.01931947, ..., -0.02420315,\n",
       "          0.00427843,  0.00444839],\n",
       "        [-0.01576817, -0.04872566, -0.04459378, ...,  0.00479444,\n",
       "         -0.01822934, -0.0815455 ]], dtype=float32),\n",
       " array([[ 0.0562833 ,  0.01812149, -0.10444172, ..., -0.1811348 ,\n",
       "         -0.2022707 ,  0.15573634],\n",
       "        [-0.06889499,  0.13718419,  0.17014956, ...,  0.17829585,\n",
       "          0.19983478, -0.03591799],\n",
       "        [ 0.05854959,  0.12601951,  0.00485055, ..., -0.15049979,\n",
       "         -0.0026764 ,  0.03211759],\n",
       "        ...,\n",
       "        [-0.07309411, -0.1360927 ,  0.00039049, ..., -0.05434141,\n",
       "         -0.04740988,  0.01206862],\n",
       "        [-0.01371059, -0.0895229 , -0.01313744, ...,  0.02857294,\n",
       "          0.0363466 , -0.09950222],\n",
       "        [ 0.03836935, -0.11732986, -0.04919078, ...,  0.11004862,\n",
       "         -0.07499624,  0.121948  ]], dtype=float32),\n",
       " array([[-0.07907268,  0.0649124 ,  0.00606428, ..., -0.07409111,\n",
       "         -0.24100973,  0.01412441],\n",
       "        [ 0.05043201,  0.04224647,  0.08474365, ..., -0.01534772,\n",
       "         -0.0894926 ,  0.02897252],\n",
       "        [-0.0140022 , -0.0997923 , -0.01939943, ...,  0.22406797,\n",
       "          0.04921882,  0.16926812],\n",
       "        ...,\n",
       "        [ 0.05417426,  0.04708254,  0.07668827, ...,  0.00474194,\n",
       "         -0.1472488 , -0.06184863],\n",
       "        [ 0.06279565,  0.01407958,  0.0562064 , ...,  0.10686947,\n",
       "          0.04131987,  0.01710909],\n",
       "        [-0.08878515, -0.16044524, -0.00221753, ..., -0.09953369,\n",
       "         -0.06183141, -0.16528812]], dtype=float32),\n",
       " array([ 0.02801487, -0.00847746, -0.0558941 , -0.05903223,  0.00722508,\n",
       "        -0.03575496, -0.03537106, -0.01445652,  0.00047303,  0.02179312,\n",
       "        -0.01068988, -0.03586316, -0.05469401,  0.03865888, -0.00864359,\n",
       "        -0.04077788, -0.02336157,  0.00189222, -0.01825819,  0.01574818,\n",
       "         0.03726177, -0.00276738,  0.03018517,  0.01596582, -0.05883881,\n",
       "        -0.05561806, -0.01221078,  0.00376912,  0.03428338,  0.01446051,\n",
       "        -0.03344196,  0.05216889, -0.00969781, -0.04615565, -0.00474188,\n",
       "        -0.00330243,  0.00350662,  0.01301456,  0.04175733,  0.00344319,\n",
       "        -0.04838546, -0.02517358, -0.0655771 ,  0.01629954,  0.0293914 ,\n",
       "        -0.05203584, -0.03029938,  0.01029186,  0.04010903, -0.00961187,\n",
       "        -0.05197908, -0.00087268, -0.03086242, -0.00041747, -0.03176217,\n",
       "         0.03812964,  0.03126861, -0.03094286, -0.03421773, -0.0220784 ,\n",
       "        -0.02678584,  0.00140351,  0.0084629 , -0.01380041,  0.02481695,\n",
       "         0.03986798,  0.01015262,  0.00150846, -0.01753621, -0.00864124,\n",
       "         0.02241179, -0.00498293,  0.00839238, -0.01179069,  0.05726355,\n",
       "         0.01265808,  0.0200032 ,  0.03200815,  0.03230334, -0.0477574 ,\n",
       "         0.02398154,  0.04225812, -0.0350027 ,  0.0153891 ,  0.04209204,\n",
       "        -0.02414988, -0.0232779 , -0.04507474,  0.01945189,  0.0194871 ,\n",
       "        -0.03177886, -0.00304158, -0.0329842 , -0.05542897, -0.03428996,\n",
       "        -0.02245546, -0.01976894, -0.04661829, -0.03543637, -0.02959078,\n",
       "        -0.01316343,  0.00882117,  0.04258482, -0.03010124, -0.01914849,\n",
       "        -0.04262265, -0.0480162 ,  0.0333883 ,  0.00331579, -0.03030353,\n",
       "        -0.01851815, -0.07065795,  0.02265505,  0.01698651,  0.05273752,\n",
       "         0.00302548,  0.00974486,  0.02600782,  0.02506978, -0.06014493,\n",
       "        -0.04923136, -0.03048535,  0.02809559, -0.05943654, -0.05803624,\n",
       "        -0.03114707,  0.00975636,  0.03343922], dtype=float32),\n",
       " array([[-0.09890332],\n",
       "        [ 0.17961031],\n",
       "        [ 0.14440037],\n",
       "        [-0.07560294],\n",
       "        [-0.10020299],\n",
       "        [ 0.24162637],\n",
       "        [ 0.18172473],\n",
       "        [-0.1643634 ],\n",
       "        [ 0.04426326],\n",
       "        [-0.19264372],\n",
       "        [ 0.02145742],\n",
       "        [-0.21343404],\n",
       "        [ 0.00597544],\n",
       "        [-0.10221619],\n",
       "        [-0.07343737],\n",
       "        [-0.00261774],\n",
       "        [ 0.00752854],\n",
       "        [-0.4123419 ],\n",
       "        [ 0.21875812],\n",
       "        [-0.13368668],\n",
       "        [-0.18915217],\n",
       "        [ 0.14416565],\n",
       "        [-0.16413881],\n",
       "        [-0.01735011],\n",
       "        [ 0.03748094],\n",
       "        [-0.04219635],\n",
       "        [ 0.1247272 ],\n",
       "        [ 0.18293005],\n",
       "        [ 0.1052431 ],\n",
       "        [-0.00242809],\n",
       "        [ 0.11374161],\n",
       "        [ 0.12364145],\n",
       "        [-0.04585977],\n",
       "        [ 0.13383955],\n",
       "        [ 0.13131829],\n",
       "        [-0.1083006 ],\n",
       "        [-0.01554281],\n",
       "        [-0.10479479],\n",
       "        [-0.18236938],\n",
       "        [ 0.09347268],\n",
       "        [ 0.18113863],\n",
       "        [-0.05493483],\n",
       "        [ 0.15285169],\n",
       "        [-0.03714987],\n",
       "        [-0.16017292],\n",
       "        [-0.10004824],\n",
       "        [ 0.07286738],\n",
       "        [-0.07219453],\n",
       "        [ 0.07645603],\n",
       "        [ 0.06065397],\n",
       "        [ 0.13427827],\n",
       "        [-0.01128057],\n",
       "        [ 0.18432292],\n",
       "        [ 0.13986237],\n",
       "        [-0.07748798],\n",
       "        [ 0.2161676 ],\n",
       "        [-0.03410488],\n",
       "        [-0.00679549],\n",
       "        [-0.15276149],\n",
       "        [ 0.09902995],\n",
       "        [ 0.12902915],\n",
       "        [ 0.03749666],\n",
       "        [-0.2008433 ],\n",
       "        [ 0.00689364],\n",
       "        [-0.21468858],\n",
       "        [-0.00758378],\n",
       "        [ 0.16985871],\n",
       "        [-0.3531973 ],\n",
       "        [-0.03690264],\n",
       "        [-0.00489221],\n",
       "        [-0.19001281],\n",
       "        [-0.2494344 ],\n",
       "        [-0.13173167],\n",
       "        [-0.1532832 ],\n",
       "        [ 0.1287474 ],\n",
       "        [ 0.19158395],\n",
       "        [-0.05994222],\n",
       "        [-0.16362879],\n",
       "        [-0.14780049],\n",
       "        [ 0.14494966],\n",
       "        [-0.18564434],\n",
       "        [-0.14116417],\n",
       "        [ 0.0819606 ],\n",
       "        [-0.19905406],\n",
       "        [ 0.00708299],\n",
       "        [-0.16323185],\n",
       "        [-0.05428485],\n",
       "        [ 0.07116966],\n",
       "        [-0.23892112],\n",
       "        [-0.07340742],\n",
       "        [-0.12992698],\n",
       "        [ 0.5308127 ],\n",
       "        [ 0.1711333 ],\n",
       "        [ 0.20918775],\n",
       "        [ 0.13710004],\n",
       "        [-0.03298736],\n",
       "        [ 0.17585361],\n",
       "        [ 0.0943673 ],\n",
       "        [ 0.21588357],\n",
       "        [-0.00983509],\n",
       "        [ 0.22602585],\n",
       "        [ 0.1133069 ],\n",
       "        [-0.230774  ],\n",
       "        [-0.23552047],\n",
       "        [ 0.5044613 ],\n",
       "        [-0.3980006 ],\n",
       "        [ 0.024631  ],\n",
       "        [ 0.06278484],\n",
       "        [-0.0412467 ],\n",
       "        [ 0.15325722],\n",
       "        [-0.02103987],\n",
       "        [-0.06822421],\n",
       "        [-0.1354816 ],\n",
       "        [ 0.105767  ],\n",
       "        [-0.21870212],\n",
       "        [-0.21234533],\n",
       "        [ 0.08979656],\n",
       "        [ 0.21286699],\n",
       "        [-0.2200515 ],\n",
       "        [-0.22417386],\n",
       "        [ 0.13378671],\n",
       "        [-0.01061985],\n",
       "        [ 0.0129362 ],\n",
       "        [ 0.20305137],\n",
       "        [ 0.18997677],\n",
       "        [-0.07495265],\n",
       "        [ 0.7121672 ],\n",
       "        [-0.12272029]], dtype=float32),\n",
       " array([0.4014932], dtype=float32)]"
      ]
     },
     "execution_count": 4,
     "metadata": {},
     "output_type": "execute_result"
    }
   ],
   "source": [
    "model.get_weights()"
   ]
  },
  {
   "cell_type": "markdown",
   "metadata": {},
   "source": [
    "Note:\n",
    "- instead of saving h5 file, we can combine architecture (rnn model) and weights."
   ]
  },
  {
   "cell_type": "code",
   "execution_count": 5,
   "metadata": {},
   "outputs": [],
   "source": [
    "# Step 2: Helper Function\n",
    "# Function to decode reviews\n",
    "def decode_review(encoded_review):\n",
    "    return ' '.join([reverse_word_index.get(i - 3, '?') for i in encoded_review])\n",
    "\n",
    "# Function to preprocess user input\n",
    "def preprocess_text(text):\n",
    "    words = text.lower().split()\n",
    "    endcoded_review = [word_index.get(word, 2) + 3 for word in words]\n",
    "    padded_review = sequence.pad_sequences([endcoded_review], maxlen=500)\n",
    "    return padded_review"
   ]
  },
  {
   "cell_type": "code",
   "execution_count": 17,
   "metadata": {},
   "outputs": [],
   "source": [
    "# Prediction Function\n",
    "def predict_sentiment(review):\n",
    "    preprocessed_input = preprocess_text(review)\n",
    "    prediction = model.predict(preprocessed_input)\n",
    "    sentiment = 'Positive' if prediction[0][0] > 0.5 else 'Negative'\n",
    "    return sentiment,prediction[0][0]"
   ]
  },
  {
   "cell_type": "code",
   "execution_count": 32,
   "metadata": {},
   "outputs": [
    {
     "name": "stdout",
     "output_type": "stream",
     "text": [
      "\u001b[1m1/1\u001b[0m \u001b[32m━━━━━━━━━━━━━━━━━━━━\u001b[0m\u001b[37m\u001b[0m \u001b[1m0s\u001b[0m 26ms/step\n",
      "Review: great movie\n",
      "Sentiment: Positive\n",
      "Prediction Score: 0.5142228603363037\n"
     ]
    }
   ],
   "source": [
    "# Step 4: User Input and Prediction\n",
    "# Example review for prediction\n",
    "example_review = \"great movie\"\n",
    "\n",
    "sentiment, score = predict_sentiment(example_review)\n",
    "\n",
    "print(f'Review: {example_review}')\n",
    "print(f'Sentiment: {sentiment}')\n",
    "print(f'Prediction Score: {score}')"
   ]
  }
 ],
 "metadata": {
  "kernelspec": {
   "display_name": "Python 3",
   "language": "python",
   "name": "python3"
  },
  "language_info": {
   "codemirror_mode": {
    "name": "ipython",
    "version": 3
   },
   "file_extension": ".py",
   "mimetype": "text/x-python",
   "name": "python",
   "nbconvert_exporter": "python",
   "pygments_lexer": "ipython3",
   "version": "3.12.0"
  }
 },
 "nbformat": 4,
 "nbformat_minor": 2
}
